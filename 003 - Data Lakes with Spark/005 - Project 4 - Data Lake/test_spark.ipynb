{
 "cells": [
  {
   "cell_type": "code",
   "execution_count": 16,
   "metadata": {
    "collapsed": true
   },
   "outputs": [],
   "source": [
    "import configparser\n",
    "from datetime import datetime\n",
    "import os\n",
    "from pyspark.sql import SparkSession\n",
    "from pyspark.sql import types as py_types\n",
    "from pyspark.sql.functions import udf, col\n",
    "from pyspark.sql.functions import year, month, dayofmonth, hour, weekofyear, date_format"
   ]
  },
  {
   "cell_type": "code",
   "execution_count": 2,
   "outputs": [],
   "source": [
    "# Create a Spark session\n",
    "spark = SparkSession \\\n",
    "        .builder \\\n",
    "        .config(\"spark.jars.packages\", \"org.apache.hadoop:hadoop-aws:2.7.0\") \\\n",
    "        .getOrCreate()\n"
   ],
   "metadata": {
    "collapsed": false,
    "pycharm": {
     "name": "#%%\n"
    }
   }
  },
  {
   "cell_type": "markdown",
   "source": [
    "#Song's table"
   ],
   "metadata": {
    "collapsed": false,
    "pycharm": {
     "name": "#%% md\n"
    }
   }
  },
  {
   "cell_type": "code",
   "execution_count": 19,
   "outputs": [],
   "source": [
    "song_schema = py_types.StructType([\n",
    "                                    py_types.StructField(\"num_songs\", py_types.IntegerType()),\n",
    "                                    py_types.StructField(\"artist_id\", py_types.StringType()),\n",
    "                                    py_types.StructField(\"artist_latitude\", py_types.FloatType()),\n",
    "                                    py_types.StructField(\"artist_longitude\", py_types.FloatType()),\n",
    "                                    py_types.StructField(\"artist_location\", py_types.StringType()),\n",
    "                                    py_types.StructField(\"artist_name\", py_types.StringType()),\n",
    "                                    py_types.StructField(\"song_id\", py_types.StringType()),\n",
    "                                    py_types.StructField(\"title\", py_types.StringType()),\n",
    "                                    py_types.StructField(\"duration\", py_types.FloatType()),\n",
    "                                    py_types.StructField(\"year\", py_types.IntegerType())\n",
    "                                 ])\n",
    "\n",
    "song_data = spark.read.json('work/data/song-data/song_data/*/*/*/*.json', schema=song_schema)\n",
    "song_data.printSchema()\n",
    "\n",
    "df_songs = song_data.select('song_id', 'title', 'artist_id', 'year', 'duration')\n",
    "df_songs.write.parquet(path=os.path.join(os.getcwd(), 'work', 'data', 'songs.parquet'),\n",
    "                       partitionBy=['year', 'artist_id'])\n",
    "\n",
    "# Artists Table\n",
    "df_artists = song_data.select('artist_id', 'artist_name', 'artist_location', 'artist_latitude', 'artist_longitude')\\\n",
    "    .withColumnRenamed('artist_name', 'name').withColumnRenamed('artist_location', 'location')\\\n",
    "    .withColumnRenamed('artist_latitude', 'latitude').withColumnRenamed('artist_longitude', 'longitude')\n",
    "df_artists.write.parquet(path=os.path.join(os.getcwd(), 'work', 'data', 'artists.parquet'))"
   ],
   "metadata": {
    "collapsed": false,
    "pycharm": {
     "name": "#%%\n"
    }
   }
  },
  {
   "cell_type": "markdown",
   "source": [
    "#Log's table"
   ],
   "metadata": {
    "collapsed": false,
    "pycharm": {
     "name": "#%% md\n"
    }
   }
  },
  {
   "cell_type": "code",
   "execution_count": null,
   "outputs": [],
   "source": [],
   "metadata": {
    "collapsed": false,
    "pycharm": {
     "name": "#%%\n"
    }
   }
  }
 ],
 "metadata": {
  "kernelspec": {
   "display_name": "Python 3",
   "language": "python",
   "name": "python3"
  },
  "language_info": {
   "codemirror_mode": {
    "name": "ipython",
    "version": 2
   },
   "file_extension": ".py",
   "mimetype": "text/x-python",
   "name": "python",
   "nbconvert_exporter": "python",
   "pygments_lexer": "ipython2",
   "version": "2.7.6"
  }
 },
 "nbformat": 4,
 "nbformat_minor": 0
}