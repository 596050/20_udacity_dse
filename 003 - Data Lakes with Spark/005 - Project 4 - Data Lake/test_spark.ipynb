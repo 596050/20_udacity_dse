{
 "cells": [
  {
   "cell_type": "code",
   "execution_count": 11,
   "metadata": {
    "collapsed": true
   },
   "outputs": [],
   "source": [
    "import os\n",
    "import pyspark.sql.functions as F\n",
    "from pyspark.sql import SparkSession\n",
    "from pyspark.sql import types as types"
   ]
  },
  {
   "cell_type": "code",
   "execution_count": 3,
   "outputs": [],
   "source": [
    "# Create a Spark session\n",
    "spark = SparkSession \\\n",
    "        .builder \\\n",
    "        .config(\"spark.jars.packages\", \"org.apache.hadoop:hadoop-aws:2.7.0\") \\\n",
    "        .getOrCreate()\n"
   ],
   "metadata": {
    "collapsed": false,
    "pycharm": {
     "name": "#%%\n"
    }
   }
  },
  {
   "cell_type": "markdown",
   "source": [
    "#Song's table"
   ],
   "metadata": {
    "collapsed": false,
    "pycharm": {
     "name": "#%% md\n"
    }
   }
  },
  {
   "cell_type": "code",
   "execution_count": 4,
   "outputs": [
    {
     "name": "stdout",
     "output_type": "stream",
     "text": [
      "root\n",
      " |-- num_songs: integer (nullable = true)\n",
      " |-- artist_id: string (nullable = true)\n",
      " |-- artist_latitude: float (nullable = true)\n",
      " |-- artist_longitude: float (nullable = true)\n",
      " |-- artist_location: string (nullable = true)\n",
      " |-- artist_name: string (nullable = true)\n",
      " |-- song_id: string (nullable = true)\n",
      " |-- title: string (nullable = true)\n",
      " |-- duration: float (nullable = true)\n",
      " |-- year: integer (nullable = true)\n",
      "\n"
     ]
    }
   ],
   "source": [
    "# Songs Data\n",
    "song_schema = types.StructType([\n",
    "                                    types.StructField(\"num_songs\", types.IntegerType()),\n",
    "                                    types.StructField(\"artist_id\", types.StringType()),\n",
    "                                    types.StructField(\"artist_latitude\", types.FloatType()),\n",
    "                                    types.StructField(\"artist_longitude\", types.FloatType()),\n",
    "                                    types.StructField(\"artist_location\", types.StringType()),\n",
    "                                    types.StructField(\"artist_name\", types.StringType()),\n",
    "                                    types.StructField(\"song_id\", types.StringType()),\n",
    "                                    types.StructField(\"title\", types.StringType()),\n",
    "                                    types.StructField(\"duration\", types.FloatType()),\n",
    "                                    types.StructField(\"year\", types.IntegerType())\n",
    "                                 ])\n",
    "\n",
    "song_data = spark.read.json('work/data/song-data/song_data/*/*/*/*.json', schema=song_schema)\n",
    "song_data.printSchema()"
   ],
   "metadata": {
    "collapsed": false,
    "pycharm": {
     "name": "#%%\n"
    }
   }
  },
  {
   "cell_type": "code",
   "execution_count": 5,
   "outputs": [],
   "source": [
    "# Songs Table\n",
    "df_songs = song_data.select('song_id', 'title', 'artist_id', 'year', 'duration')\n",
    "df_songs.write.parquet(path=os.path.join(os.getcwd(), 'work', 'data', 'songs.parquet'),\n",
    "                       partitionBy=['year', 'artist_id'])"
   ],
   "metadata": {
    "collapsed": false,
    "pycharm": {
     "name": "#%%\n"
    }
   }
  },
  {
   "cell_type": "code",
   "execution_count": 6,
   "outputs": [],
   "source": [
    "# Artists Table\n",
    "df_artists = song_data.select('artist_id', 'artist_name', 'artist_location', 'artist_latitude', 'artist_longitude')\\\n",
    "    .withColumnRenamed('artist_name', 'name').withColumnRenamed('artist_location', 'location')\\\n",
    "    .withColumnRenamed('artist_latitude', 'latitude').withColumnRenamed('artist_longitude', 'longitude')\n",
    "df_artists.write.parquet(path=os.path.join(os.getcwd(), 'work', 'data', 'artists.parquet'))"
   ],
   "metadata": {
    "collapsed": false,
    "pycharm": {
     "name": "#%%\n"
    }
   }
  },
  {
   "cell_type": "markdown",
   "source": [
    "#Log's table"
   ],
   "metadata": {
    "collapsed": false,
    "pycharm": {
     "name": "#%% md\n"
    }
   }
  },
  {
   "cell_type": "code",
   "execution_count": 8,
   "outputs": [
    {
     "name": "stdout",
     "output_type": "stream",
     "text": [
      "root\n",
      " |-- artist: string (nullable = true)\n",
      " |-- auth: string (nullable = true)\n",
      " |-- first_name: string (nullable = true)\n",
      " |-- gender: string (nullable = true)\n",
      " |-- item_in_session: integer (nullable = true)\n",
      " |-- last_name: string (nullable = true)\n",
      " |-- length: float (nullable = true)\n",
      " |-- level: string (nullable = true)\n",
      " |-- location: string (nullable = true)\n",
      " |-- method: string (nullable = true)\n",
      " |-- page: string (nullable = true)\n",
      " |-- registration: float (nullable = true)\n",
      " |-- session_id: integer (nullable = true)\n",
      " |-- song: string (nullable = true)\n",
      " |-- status: integer (nullable = true)\n",
      " |-- ts: timestamp (nullable = true)\n",
      " |-- user_agent: string (nullable = true)\n",
      " |-- user_id: integer (nullable = true)\n",
      "\n"
     ]
    }
   ],
   "source": [
    "# Logs Data\n",
    "log_schema = types.StructType([\n",
    "                                    types.StructField(\"artist\", types.StringType()),\n",
    "                                    types.StructField(\"auth\", types.StringType()),\n",
    "                                    types.StructField(\"first_name\", types.StringType()),\n",
    "                                    types.StructField(\"gender\", types.StringType()),\n",
    "                                    types.StructField(\"item_in_session\", types.IntegerType()),\n",
    "                                    types.StructField(\"last_name\", types.StringType()),\n",
    "                                    types.StructField(\"length\", types.FloatType()),\n",
    "                                    types.StructField(\"level\", types.StringType()),\n",
    "                                    types.StructField(\"location\", types.StringType()),\n",
    "                                    types.StructField(\"method\", types.StringType()),\n",
    "                                    types.StructField(\"page\", types.StringType()),\n",
    "                                    types.StructField(\"registration\", types.FloatType()),\n",
    "                                    types.StructField(\"session_id\", types.IntegerType()),\n",
    "                                    types.StructField(\"song\", types.StringType()),\n",
    "                                    types.StructField(\"status\", types.IntegerType()),\n",
    "                                    types.StructField(\"ts\", types.TimestampType()),\n",
    "                                    types.StructField(\"user_agent\", types.StringType()),\n",
    "                                    types.StructField(\"user_id\", types.IntegerType())\n",
    "                                 ])\n",
    "\n",
    "log_data = spark.read.json('work/data/log-data/*.json', schema=log_schema)\n",
    "log_data = log_data.filter(log_data.page=='NextSong')\n",
    "log_data.printSchema()"
   ],
   "metadata": {
    "collapsed": false,
    "pycharm": {
     "name": "#%%\n"
    }
   }
  },
  {
   "cell_type": "code",
   "execution_count": 9,
   "outputs": [],
   "source": [
    "# Users Table\n",
    "df_users = log_data.select('user_id', 'first_name', 'last_name', 'gender', 'level')\n",
    "df_users.write.parquet(path=os.path.join(os.getcwd(), 'work', 'data', 'users.parquet'))"
   ],
   "metadata": {
    "collapsed": false,
    "pycharm": {
     "name": "#%%"
    }
   }
  },
  {
   "cell_type": "code",
   "execution_count": 12,
   "outputs": [],
   "source": [
    "# Time Table\n",
    "df_time = log_data.select('ts').withColumnRenamed('ts', 'start_time')\n",
    "df_time = df_time.withColumn('hour', F.hour(df_time.start_time))\\\n",
    "                 .withColumn('day', F.dayofmonth(df_time.start_time))\\\n",
    "                 .withColumn('week', F.weekofyear(df_time.start_time))\\\n",
    "                 .withColumn('month', F.month(df_time.start_time))\\\n",
    "                 .withColumn('year', F.year(df_time.start_time))\\\n",
    "                 .withColumn('weekday', F.dayofweek(df_time.start_time))\n",
    "df_time.write.parquet(path=os.path.join(os.getcwd(), 'work', 'data', 'time.parquet'),\n",
    "                       partitionBy=['year', 'month'])"
   ],
   "metadata": {
    "collapsed": false,
    "pycharm": {
     "name": "#%%\n"
    }
   }
  },
  {
   "cell_type": "code",
   "execution_count": null,
   "outputs": [],
   "source": [
    "# Songplays Table\n",
    "\n",
    "\n",
    "# songplay_id, start_time, user_id, level, song_id, artist_id, session_id, location, user_agent"
   ],
   "metadata": {
    "collapsed": false,
    "pycharm": {
     "name": "#%%\n"
    }
   }
  }
 ],
 "metadata": {
  "kernelspec": {
   "display_name": "Python 3",
   "language": "python",
   "name": "python3"
  },
  "language_info": {
   "codemirror_mode": {
    "name": "ipython",
    "version": 2
   },
   "file_extension": ".py",
   "mimetype": "text/x-python",
   "name": "python",
   "nbconvert_exporter": "python",
   "pygments_lexer": "ipython2",
   "version": "2.7.6"
  }
 },
 "nbformat": 4,
 "nbformat_minor": 0
}